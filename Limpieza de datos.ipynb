{
 "cells": [
  {
   "cell_type": "markdown",
   "id": "9aab7e9d",
   "metadata": {},
   "source": [
    "# Limpieza de datos "
   ]
  },
  {
   "cell_type": "markdown",
   "id": "e43602ac",
   "metadata": {},
   "source": [
    "Este trabajo de análisis de calidad de datos identifica y diagnostica cinco problemáticas críticas en el dataset de terremotos y tsunamis, incluyendo valores nulos en variables esenciales, coordenadas geográficas inválidas, valores atípicos en mediciones sísmicas, registros duplicados e inconsistencias entre variables relacionadas como CDI y MMI. Mediante un análisis exploratorio se busca limpiar y validar el dataset para garantizar la confiabilidad de futuros análisis sísmicos y modelos predictivos, estableciendo las bases para insights más precisos sobre la relación entre terremotos y tsunamis."
   ]
  },
  {
   "cell_type": "code",
   "execution_count": 1,
   "id": "eba234d7",
   "metadata": {},
   "outputs": [
    {
     "name": "stdout",
     "output_type": "stream",
     "text": [
      "   magnitude  cdi  mmi  sig  nst   dmin   gap    depth  latitude  longitude  \\\n",
      "0        7.0    8    7  768  117  0.509  17.0   14.000   -9.7963    159.596   \n",
      "1        6.9    4    4  735   99  2.229  34.0   25.000   -4.9559    100.738   \n",
      "2        7.0    3    3  755  147  3.125  18.0  579.000  -20.0508   -178.346   \n",
      "3        7.3    5    5  833  149  1.865  21.0   37.000  -19.2918   -172.129   \n",
      "4        6.6    0    2  670  131  4.998  27.0  624.464  -25.5948    178.278   \n",
      "\n",
      "   Year  Month  tsunami  \n",
      "0  2022     11        1  \n",
      "1  2022     11        0  \n",
      "2  2022     11        1  \n",
      "3  2022     11        1  \n",
      "4  2022     11        1  \n"
     ]
    }
   ],
   "source": [
    "import pandas as pd\n",
    "import numpy as np\n",
    "import matplotlib.pyplot as plt\n",
    "import seaborn as sns\n",
    "\n",
    "# Importar archivo\n",
    "df = pd.read_csv('C:/Users/laura/Downloads/earthquake_data_tsunami.csv')\n",
    "\n",
    "print(df.head()) "
   ]
  },
  {
   "cell_type": "code",
   "execution_count": 2,
   "id": "0dde18b1",
   "metadata": {},
   "outputs": [
    {
     "name": "stdout",
     "output_type": "stream",
     "text": [
      "Index(['magnitude', 'cdi', 'mmi', 'sig', 'nst', 'dmin', 'gap', 'depth',\n",
      "       'latitude', 'longitude', 'Year', 'Month', 'tsunami'],\n",
      "      dtype='object')\n"
     ]
    }
   ],
   "source": [
    "print(df.columns) "
   ]
  },
  {
   "cell_type": "markdown",
   "id": "ece57dd8",
   "metadata": {},
   "source": [
    "# 1. Valores nulos o ceros en columnas críticas"
   ]
  },
  {
   "cell_type": "code",
   "execution_count": 3,
   "id": "96d9f113",
   "metadata": {},
   "outputs": [
    {
     "name": "stdout",
     "output_type": "stream",
     "text": [
      "Valores nulos/ceros en columnas críticas\n",
      "Valores nulos por columna:\n",
      "magnitude    0\n",
      "cdi          0\n",
      "mmi          0\n",
      "sig          0\n",
      "nst          0\n",
      "dmin         0\n",
      "gap          0\n",
      "depth        0\n",
      "latitude     0\n",
      "longitude    0\n",
      "Year         0\n",
      "Month        0\n",
      "tsunami      0\n",
      "dtype: int64\n",
      "\n",
      "Valores iguales a 0 en columnas numéricas importantes:\n",
      "magnitude: 0 ceros (0.00%)\n",
      "cdi: 212 ceros (27.11%)\n",
      "mmi: 0 ceros (0.00%)\n",
      "sig: 0 ceros (0.00%)\n",
      "nst: 365 ceros (46.68%)\n",
      "dmin: 405 ceros (51.79%)\n",
      "gap: 70 ceros (8.95%)\n",
      "depth: 0 ceros (0.00%)\n"
     ]
    }
   ],
   "source": [
    "print(\"Valores nulos/ceros en columnas críticas\")\n",
    "print(\"Valores nulos por columna:\")\n",
    "print(df.isnull().sum())\n",
    "\n",
    "print(\"\\nValores iguales a 0 en columnas numéricas importantes:\")\n",
    "ceros_analysis = {}\n",
    "columnas_numericas = ['magnitude', 'cdi', 'mmi', 'sig', 'nst', 'dmin', 'gap', 'depth']\n",
    "for col in columnas_numericas:\n",
    "    if col in df.columns:\n",
    "        ceros_count = (df[col] == 0).sum()\n",
    "        ceros_analysis[col] = ceros_count\n",
    "        print(f\"{col}: {ceros_count} ceros ({ceros_count/len(df)*100:.2f}%)\")\n",
    "\n"
   ]
  },
  {
   "cell_type": "markdown",
   "id": "eb1a1285",
   "metadata": {},
   "source": [
    "# 2. Variables de fecha (Year y Month)"
   ]
  },
  {
   "cell_type": "code",
   "execution_count": 4,
   "id": "345ed3be",
   "metadata": {},
   "outputs": [
    {
     "name": "stdout",
     "output_type": "stream",
     "text": [
      "\n",
      "Columna 'date' creada correctamente.\n"
     ]
    },
    {
     "data": {
      "text/html": [
       "<div>\n",
       "<style scoped>\n",
       "    .dataframe tbody tr th:only-of-type {\n",
       "        vertical-align: middle;\n",
       "    }\n",
       "\n",
       "    .dataframe tbody tr th {\n",
       "        vertical-align: top;\n",
       "    }\n",
       "\n",
       "    .dataframe thead th {\n",
       "        text-align: right;\n",
       "    }\n",
       "</style>\n",
       "<table border=\"1\" class=\"dataframe\">\n",
       "  <thead>\n",
       "    <tr style=\"text-align: right;\">\n",
       "      <th></th>\n",
       "      <th>Year</th>\n",
       "      <th>Month</th>\n",
       "      <th>date</th>\n",
       "    </tr>\n",
       "  </thead>\n",
       "  <tbody>\n",
       "    <tr>\n",
       "      <th>0</th>\n",
       "      <td>2022</td>\n",
       "      <td>11</td>\n",
       "      <td>2022-11-01</td>\n",
       "    </tr>\n",
       "    <tr>\n",
       "      <th>1</th>\n",
       "      <td>2022</td>\n",
       "      <td>11</td>\n",
       "      <td>2022-11-01</td>\n",
       "    </tr>\n",
       "    <tr>\n",
       "      <th>2</th>\n",
       "      <td>2022</td>\n",
       "      <td>11</td>\n",
       "      <td>2022-11-01</td>\n",
       "    </tr>\n",
       "    <tr>\n",
       "      <th>3</th>\n",
       "      <td>2022</td>\n",
       "      <td>11</td>\n",
       "      <td>2022-11-01</td>\n",
       "    </tr>\n",
       "    <tr>\n",
       "      <th>4</th>\n",
       "      <td>2022</td>\n",
       "      <td>11</td>\n",
       "      <td>2022-11-01</td>\n",
       "    </tr>\n",
       "  </tbody>\n",
       "</table>\n",
       "</div>"
      ],
      "text/plain": [
       "   Year  Month       date\n",
       "0  2022     11 2022-11-01\n",
       "1  2022     11 2022-11-01\n",
       "2  2022     11 2022-11-01\n",
       "3  2022     11 2022-11-01\n",
       "4  2022     11 2022-11-01"
      ]
     },
     "metadata": {},
     "output_type": "display_data"
    }
   ],
   "source": [
    "# Crear columna de fecha combinada\n",
    "df[\"date\"] = pd.to_datetime(df[\"Year\"].astype(str) + \"-\" + df[\"Month\"].astype(str) + \"-01\")\n",
    "print(\"\\nColumna 'date' creada correctamente.\")\n",
    "display(df[[\"Year\", \"Month\", \"date\"]].head())"
   ]
  },
  {
   "cell_type": "markdown",
   "id": "f89fa2f4",
   "metadata": {},
   "source": [
    "# 3. Inconsistencias en datos de coordenadas"
   ]
  },
  {
   "cell_type": "code",
   "execution_count": 5,
   "id": "eeda0cb0",
   "metadata": {},
   "outputs": [
    {
     "name": "stdout",
     "output_type": "stream",
     "text": [
      "Análisis de coordenadas geográficas:\n",
      "Latitud: [-61.8484, 71.6312]\n",
      "Longitud: [-179.968, 179.662]\n",
      "\n",
      "Coordenadas fuera de rangos geográficos válidos: 0\n"
     ]
    }
   ],
   "source": [
    "print(\"Análisis de coordenadas geográficas:\")\n",
    "\n",
    "# Verificar rangos válidos para latitud y longitud\n",
    "lat_min, lat_max = df['latitude'].min(), df['latitude'].max()\n",
    "lon_min, lon_max = df['longitude'].min(), df['longitude'].max()\n",
    "\n",
    "print(f\"Latitud: [{lat_min}, {lat_max}]\")\n",
    "print(f\"Longitud: [{lon_min}, {lon_max}]\")\n",
    "\n",
    "# Identificar coordenadas potencialmente incorrectas\n",
    "coordenadas_sospechosas = df[(df['latitude'] < -90) | (df['latitude'] > 90) |\n",
    "    (df['longitude'] < -180) | (df['longitude'] > 180)]\n",
    "\n",
    "print(f\"\\nCoordenadas fuera de rangos geográficos válidos: {len(coordenadas_sospechosas)}\")\n"
   ]
  },
  {
   "cell_type": "markdown",
   "id": "bc103238",
   "metadata": {},
   "source": [
    "# 4. Valores atípicos en mediciones sísmicas"
   ]
  },
  {
   "cell_type": "code",
   "execution_count": 6,
   "id": "7e7e30a6",
   "metadata": {},
   "outputs": [
    {
     "name": "stdout",
     "output_type": "stream",
     "text": [
      "\n",
      "Valores atípicos en mediciones\n"
     ]
    },
    {
     "data": {
      "image/png": "[encoded data removed]",
      "text/plain": [
       "<Figure size 1200x800 with 4 Axes>"
      ]
     },
     "metadata": {},
     "output_type": "display_data"
    },
    {
     "name": "stdout",
     "output_type": "stream",
     "text": [
      "\n",
      "Valores extremos por variable:\n",
      "magnitude: 37 valores atípicos\n",
      "depth: 139 valores atípicos\n",
      "sig: 73 valores atípicos\n",
      "gap: 48 valores atípicos\n"
     ]
    }
   ],
   "source": [
    "print(\"\\nValores atípicos en mediciones\")\n",
    "\n",
    "# Analizar distribuciones de variables clave\n",
    "variables_analisis = ['magnitude', 'depth', 'sig', 'gap']\n",
    "\n",
    "fig, axes = plt.subplots(2, 2, figsize=(12, 8))\n",
    "axes = axes.ravel()\n",
    "\n",
    "for i, col in enumerate(variables_analisis):\n",
    "    axes[i].boxplot(df[col].dropna())\n",
    "    axes[i].set_title(f'Boxplot de {col}')\n",
    "    axes[i].set_ylabel(col)\n",
    "\n",
    "plt.tight_layout()\n",
    "plt.show()\n",
    "\n",
    "# Identificar valores extremos\n",
    "print(\"\\nValores extremos por variable:\")\n",
    "for col in variables_analisis:\n",
    "    Q1 = df[col].quantile(0.25)\n",
    "    Q3 = df[col].quantile(0.75)\n",
    "    IQR = Q3 - Q1\n",
    "    lower_bound = Q1 - 1.5 * IQR\n",
    "    upper_bound = Q3 + 1.5 * IQR\n",
    "    \n",
    "    outliers = df[(df[col] < lower_bound) | (df[col] > upper_bound)]\n",
    "    print(f\"{col}: {len(outliers)} valores atípicos\")"
   ]
  },
  {
   "cell_type": "markdown",
   "id": "a2195dc4",
   "metadata": {},
   "source": [
    "# 5. Inconsistencias temporales y duplicados"
   ]
  },
  {
   "cell_type": "code",
   "execution_count": 7,
   "id": "c25ed04d",
   "metadata": {},
   "outputs": [
    {
     "name": "stdout",
     "output_type": "stream",
     "text": [
      "\n",
      "Problemas temporales y duplicados\n",
      "Rango temporal del dataset:\n",
      "Año mínimo: 2001\n",
      "Año máximo: 2022\n",
      "\n",
      "Registros con meses inválidos: 0\n",
      "Registros duplicados exactos: 0\n",
      "Registros con misma fecha y ubicación: 2\n",
      "\n",
      "Ejemplo de registros potencialmente duplicados:\n",
      "    Year  Month  latitude  longitude  magnitude\n",
      "32  2022      1    52.502   -168.080        6.5\n",
      "33  2022      1    52.502   -168.080        6.5\n",
      "35  2022      1    52.480   -167.736        6.7\n",
      "36  2022      1    52.480   -167.736        6.7\n"
     ]
    }
   ],
   "source": [
    "print(\"\\nProblemas temporales y duplicados\")\n",
    "\n",
    "# Verificar rango temporal\n",
    "print(\"Rango temporal del dataset:\")\n",
    "print(f\"Año mínimo: {df['Year'].min()}\")\n",
    "print(f\"Año máximo: {df['Year'].max()}\")\n",
    "\n",
    "# Verificar meses válidos\n",
    "meses_invalidos = df[(df['Month'] < 1) | (df['Month'] > 12)]\n",
    "print(f\"\\nRegistros con meses inválidos: {len(meses_invalidos)}\")\n",
    "\n",
    "# Buscar duplicados exactos\n",
    "duplicados_exactos = df.duplicated().sum()\n",
    "print(f\"Registros duplicados exactos: {duplicados_exactos}\")\n",
    "\n",
    "# Buscar duplicados potenciales (mismo tiempo, ubicación y magnitud similar)\n",
    "df['time_location_key'] = df['Year'].astype(str) + '_' + df['Month'].astype(str) + '_' + df['latitude'].round(2).astype(str) + '_' + df['longitude'].round(2).astype(str)\n",
    "\n",
    "duplicados_potenciales = df['time_location_key'].duplicated().sum()\n",
    "print(f\"Registros con misma fecha y ubicación: {duplicados_potenciales}\")\n",
    "\n",
    "# Mostrar algunos duplicados potenciales\n",
    "if duplicados_potenciales > 0:\n",
    "    print(\"\\nEjemplo de registros potencialmente duplicados:\")\n",
    "    duplicados = df[df['time_location_key'].duplicated(keep=False)]\n",
    "    print(duplicados[['Year', 'Month', 'latitude', 'longitude', 'magnitude']].head(6))"
   ]
  },
  {
   "cell_type": "markdown",
   "id": "a154bf9e",
   "metadata": {},
   "source": [
    "# 6. Inconsistencias en datos categóricos y tsunami "
   ]
  },
  {
   "cell_type": "code",
   "execution_count": 8,
   "id": "f86d2155",
   "metadata": {},
   "outputs": [
    {
     "name": "stdout",
     "output_type": "stream",
     "text": [
      "\n",
      "Inconsistencias en datos categóricos\n",
      "Distribución de tsunamis:\n",
      "tsunami\n",
      "0    478\n",
      "1    304\n",
      "Name: count, dtype: int64\n",
      "\n",
      "Magnitud promedio por tsunami:\n",
      "tsunami\n",
      "0    6.942803\n",
      "1    6.938487\n",
      "Name: magnitude, dtype: float64\n",
      "\n",
      "Inconsistencias CDI vs MMI:\n",
      "Registros con diferencia > 3: 224\n",
      "\n",
      "Datos disponibles para scatter plot: 782 registros\n"
     ]
    },
    {
     "data": {
      "image/png": "[encoded data removed]",
      "text/plain": [
       "<Figure size 1000x400 with 1 Axes>"
      ]
     },
     "metadata": {},
     "output_type": "display_data"
    },
    {
     "name": "stdout",
     "output_type": "stream",
     "text": [
      "\n",
      "Problema: 224 registros tienen CDI y MMI inconsistentes\n"
     ]
    }
   ],
   "source": [
    "print(\"\\nInconsistencias en datos categóricos\")\n",
    "\n",
    "# Análisis básico de la variable tsunami\n",
    "print(\"Distribución de tsunamis:\")\n",
    "tsunami_counts = df['tsunami'].value_counts()\n",
    "print(tsunami_counts)\n",
    "\n",
    "# Relación simple entre magnitud y tsunami\n",
    "print(\"\\nMagnitud promedio por tsunami:\")\n",
    "magnitud_promedio = df.groupby('tsunami')['magnitude'].mean()\n",
    "print(magnitud_promedio)\n",
    "\n",
    "# Verificar inconsistencias entre CDI y MMI\n",
    "print(\"\\nInconsistencias CDI vs MMI:\")\n",
    "df['diff_cdi_mmi'] = abs(df['cdi'] - df['mmi'])\n",
    "inconsistencias = df[df['diff_cdi_mmi'] > 3]\n",
    "print(f\"Registros con diferencia > 3: {len(inconsistencias)}\")\n",
    "\n",
    "# Verificar si hay datos para el scatter plot\n",
    "cdi_mmi_data = df[['cdi', 'mmi']].dropna()\n",
    "print(f\"\\nDatos disponibles para scatter plot: {len(cdi_mmi_data)} registros\")\n",
    "\n",
    "# Visualización \n",
    "plt.figure(figsize=(10, 4))\n",
    "\n",
    "# Scatter plot CDI vs MMI \n",
    "plt.subplot(1, 2, 2)\n",
    "if len(cdi_mmi_data) > 0:\n",
    "    plt.scatter(cdi_mmi_data['cdi'], cdi_mmi_data['mmi'], alpha=0.5)\n",
    "    plt.plot([0, 10], [0, 10], 'r--', alpha=0.8, label='y=x')\n",
    "    plt.xlabel('CDI')\n",
    "    plt.ylabel('MMI')\n",
    "    plt.title('CDI vs MMI')\n",
    "    plt.xlim(0, 10)\n",
    "    plt.ylim(0, 10)\n",
    "    plt.legend()\n",
    "else:\n",
    "    plt.text(0.5, 0.5, 'No hay datos disponibles', \n",
    "             horizontalalignment='center', verticalalignment='center',\n",
    "             transform=plt.gca().transAxes)\n",
    "    plt.title('CDI vs MMI - Sin datos')\n",
    "\n",
    "plt.tight_layout()\n",
    "plt.show()\n",
    "\n",
    "print(f\"\\nProblema: {len(inconsistencias)} registros tienen CDI y MMI inconsistentes\")"
   ]
  },
  {
   "cell_type": "markdown",
   "id": "e13c504a",
   "metadata": {},
   "source": [
    "# 7. Revisión de tipo de dato"
   ]
  },
  {
   "cell_type": "code",
   "execution_count": 9,
   "id": "01815bc2",
   "metadata": {},
   "outputs": [
    {
     "name": "stdout",
     "output_type": "stream",
     "text": [
      "\n",
      "Tipos de datos actuales:\n"
     ]
    },
    {
     "data": {
      "text/plain": [
       "magnitude                   float64\n",
       "cdi                           int64\n",
       "mmi                           int64\n",
       "sig                           int64\n",
       "nst                           int64\n",
       "dmin                        float64\n",
       "gap                         float64\n",
       "depth                       float64\n",
       "latitude                    float64\n",
       "longitude                   float64\n",
       "Year                          int64\n",
       "Month                         int64\n",
       "tsunami                       int64\n",
       "date                 datetime64[ns]\n",
       "time_location_key            object\n",
       "diff_cdi_mmi                  int64\n",
       "dtype: object"
      ]
     },
     "metadata": {},
     "output_type": "display_data"
    },
    {
     "data": {
      "text/plain": [
       "tsunami\n",
       "No    478\n",
       "Sí    304\n",
       "Name: count, dtype: int64"
      ]
     },
     "metadata": {},
     "output_type": "display_data"
    }
   ],
   "source": [
    "print(\"\\nTipos de datos actuales:\")\n",
    "display(df.dtypes)\n",
    "\n",
    "#convertir 'tsunami' a tipo categórico (Sí/No)\n",
    "df[\"tsunami\"] = df[\"tsunami\"].map({1: \"Sí\", 0: \"No\"})\n",
    "display(df[\"tsunami\"].value_counts())"
   ]
  }
 ],
 "metadata": {
  "kernelspec": {
   "display_name": "Python 3",
   "language": "python",
   "name": "python3"
  },
  "language_info": {
   "codemirror_mode": {
    "name": "ipython",
    "version": 3
   },
   "file_extension": ".py",
   "mimetype": "text/x-python",
   "name": "python",
   "nbconvert_exporter": "python",
   "pygments_lexer": "ipython3",
   "version": "3.13.5"
  }
 },
 "nbformat": 4,
 "nbformat_minor": 5
}
